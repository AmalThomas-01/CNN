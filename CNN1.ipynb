{
 "cells": [
  {
   "cell_type": "code",
   "execution_count": 1,
   "id": "3fa7814f",
   "metadata": {},
   "outputs": [],
   "source": [
    "import tensorflow as tf\n",
    "from tensorflow.keras import datasets,layers,models\n",
    "import matplotlib.pyplot as plt\n",
    "import numpy as np"
   ]
  },
  {
   "cell_type": "code",
   "execution_count": 2,
   "id": "a5381d34",
   "metadata": {},
   "outputs": [],
   "source": [
    "(X_train,y_train),(X_test,y_test)=datasets.cifar10.load_data()"
   ]
  },
  {
   "cell_type": "code",
   "execution_count": 3,
   "id": "b48ba332",
   "metadata": {},
   "outputs": [
    {
     "data": {
      "text/plain": [
       "(10000, 32, 32, 3)"
      ]
     },
     "execution_count": 3,
     "metadata": {},
     "output_type": "execute_result"
    }
   ],
   "source": [
    "X_test.shape"
   ]
  },
  {
   "cell_type": "code",
   "execution_count": 4,
   "id": "2f8ecb3b",
   "metadata": {},
   "outputs": [
    {
     "data": {
      "text/plain": [
       "array([6, 9, 9, 4, 1], dtype=uint8)"
      ]
     },
     "execution_count": 4,
     "metadata": {},
     "output_type": "execute_result"
    }
   ],
   "source": [
    "y_train=y_train.reshape(-1,)#2d array to 1d\n",
    "y_test=y_test.reshape(-1,)\n",
    "y_train[:5]"
   ]
  },
  {
   "cell_type": "code",
   "execution_count": 5,
   "id": "8d07fc6b",
   "metadata": {},
   "outputs": [],
   "source": [
    "classes=[\"airplane\",\"automobile\",\"bird\",\"cat\",\"deer\",\"dog\",\"frog\",\"horse\",\"ship\",\"truck\"]"
   ]
  },
  {
   "cell_type": "code",
   "execution_count": 6,
   "id": "d84ada10",
   "metadata": {},
   "outputs": [],
   "source": [
    "def plot_sample(X,y,index):\n",
    "    plt.figure(figsize=(15,2))\n",
    "    plt.imshow(X[index])\n",
    "    plt.xlabel(classes[y[index]])"
   ]
  },
  {
   "cell_type": "code",
   "execution_count": 7,
   "id": "27bbefda",
   "metadata": {},
   "outputs": [
    {
     "data": {
      "image/png": "[encoded data removed]",
      "text/plain": [
       "<Figure size 1500x200 with 1 Axes>"
      ]
     },
     "metadata": {},
     "output_type": "display_data"
    }
   ],
   "source": [
    "plot_sample(X_train,y_train,6)"
   ]
  },
  {
   "cell_type": "code",
   "execution_count": 8,
   "id": "be348f68",
   "metadata": {},
   "outputs": [],
   "source": [
    "X_train=X_train/255 #pixel value in the range of 0-1\n",
    "X_test=X_test/255"
   ]
  },
  {
   "cell_type": "code",
   "execution_count": 9,
   "id": "04a9c56d",
   "metadata": {},
   "outputs": [
    {
     "name": "stdout",
     "output_type": "stream",
     "text": [
      "Epoch 1/3\n",
      "1563/1563 [==============================] - 71s 45ms/step - loss: 1.8146 - accuracy: 0.3543\n",
      "Epoch 2/3\n",
      "1563/1563 [==============================] - 67s 43ms/step - loss: 1.6224 - accuracy: 0.4260\n",
      "Epoch 3/3\n",
      "1563/1563 [==============================] - 66s 42ms/step - loss: 1.5436 - accuracy: 0.4554\n"
     ]
    },
    {
     "data": {
      "text/plain": [
       "<keras.callbacks.History at 0x1fe2186ffa0>"
      ]
     },
     "execution_count": 9,
     "metadata": {},
     "output_type": "execute_result"
    }
   ],
   "source": [
    "#only ann used \n",
    "\n",
    "ann=models.Sequential([\n",
    "    layers.Flatten(input_shape=(32,32,3)), #1st layer dimension of image\n",
    "    layers.Dense(3000,activation='relu'), \n",
    "    layers.Dense(1000,activation='relu'),\n",
    "    layers.Dense(10,activation='softmax')  # 10 class so 10 output layer\n",
    "])\n",
    "\n",
    "ann.compile(optimizer='SGD',\n",
    "           loss='sparse_categorical_crossentropy',\n",
    "           metrics=['accuracy'])\n",
    "\n",
    "ann.fit(X_train,y_train,epochs=3)"
   ]
  },
  {
   "cell_type": "code",
   "execution_count": 10,
   "id": "648f7fe8",
   "metadata": {},
   "outputs": [
    {
     "name": "stdout",
     "output_type": "stream",
     "text": [
      "313/313 [==============================] - 6s 16ms/step - loss: 1.6094 - accuracy: 0.4166\n"
     ]
    },
    {
     "data": {
      "text/plain": [
       "[1.6094303131103516, 0.41659998893737793]"
      ]
     },
     "execution_count": 10,
     "metadata": {},
     "output_type": "execute_result"
    }
   ],
   "source": [
    "ann.evaluate(X_test,y_test)"
   ]
  },
  {
   "cell_type": "code",
   "execution_count": 12,
   "id": "75944b0c",
   "metadata": {},
   "outputs": [],
   "source": [
    "cnn=models.Sequential([\n",
    "    layers.Conv2D(filters=32,kernel_size=(3,3),activation='relu',input_shape=(32,32,3)),\n",
    "    layers.MaxPooling2D((2,2)),\n",
    "    layers.Conv2D(filters=64,kernel_size=(3,3),activation='relu'),\n",
    "    layers.MaxPooling2D((2,2)),\n",
    "    layers.Flatten(input_shape=()),\n",
    "    layers.Dense(300,activation='relu'), #2 deep layers \n",
    "    layers.Dense(100,activation='relu'),# can decrease the neurons due convlution\n",
    "    layers.Dense(10,activation='sigmoid')  # 10 class so 10 output layer\n",
    "])"
   ]
  },
  {
   "cell_type": "code",
   "execution_count": 13,
   "id": "6bf25426",
   "metadata": {},
   "outputs": [],
   "source": [
    "cnn.compile(optimizer='adam',\n",
    "           loss='sparse_categorical_crossentropy',\n",
    "           metrics=['accuracy'])"
   ]
  },
  {
   "cell_type": "code",
   "execution_count": 15,
   "id": "f240d34a",
   "metadata": {},
   "outputs": [
    {
     "name": "stdout",
     "output_type": "stream",
     "text": [
      "Epoch 1/3\n",
      "1563/1563 [==============================] - 39s 25ms/step - loss: 1.0522 - accuracy: 0.6302\n",
      "Epoch 2/3\n",
      "1563/1563 [==============================] - 36s 23ms/step - loss: 0.8937 - accuracy: 0.6867\n",
      "Epoch 3/3\n",
      "1563/1563 [==============================] - 37s 23ms/step - loss: 0.7765 - accuracy: 0.7272\n"
     ]
    },
    {
     "data": {
      "text/plain": [
       "<keras.callbacks.History at 0x1fe21f25ee0>"
      ]
     },
     "execution_count": 15,
     "metadata": {},
     "output_type": "execute_result"
    }
   ],
   "source": [
    "cnn.fit(X_train,y_train,epochs=3)"
   ]
  },
  {
   "cell_type": "code",
   "execution_count": 16,
   "id": "1b901eeb",
   "metadata": {},
   "outputs": [
    {
     "name": "stdout",
     "output_type": "stream",
     "text": [
      "313/313 [==============================] - 3s 9ms/step - loss: 0.8880 - accuracy: 0.6953\n"
     ]
    },
    {
     "data": {
      "text/plain": [
       "[0.8880035877227783, 0.6952999830245972]"
      ]
     },
     "execution_count": 16,
     "metadata": {},
     "output_type": "execute_result"
    }
   ],
   "source": [
    "cnn.evaluate(X_test,y_test)# testing"
   ]
  },
  {
   "cell_type": "code",
   "execution_count": 17,
   "id": "8e8f3aac",
   "metadata": {},
   "outputs": [
    {
     "data": {
      "image/png": "[encoded data removed]",
      "text/plain": [
       "<Figure size 1500x200 with 1 Axes>"
      ]
     },
     "metadata": {},
     "output_type": "display_data"
    }
   ],
   "source": [
    "plot_sample(X_test,y_test,0)"
   ]
  },
  {
   "cell_type": "code",
   "execution_count": 20,
   "id": "de23092e",
   "metadata": {},
   "outputs": [
    {
     "name": "stdout",
     "output_type": "stream",
     "text": [
      "1/1 [==============================] - 0s 40ms/step\n"
     ]
    },
    {
     "data": {
      "text/plain": [
       "array([[2.33345643e-01, 4.37543005e-01, 4.29300338e-01, 8.24028671e-01,\n",
       "        1.75541639e-01, 5.78699350e-01, 4.46230233e-01, 1.58794165e-01,\n",
       "        2.68201023e-01, 1.75504401e-01],\n",
       "       [9.31091070e-01, 9.98329043e-01, 2.28193030e-02, 1.06421849e-02,\n",
       "        1.63018261e-03, 1.69807393e-03, 1.51301268e-03, 3.91394453e-04,\n",
       "        9.98841047e-01, 9.79272723e-01],\n",
       "       [6.61032915e-01, 9.40983236e-01, 1.18860662e-01, 1.43313915e-01,\n",
       "        6.85262531e-02, 2.90335584e-02, 2.35818159e-02, 4.72456254e-02,\n",
       "        9.53979611e-01, 7.75038600e-01],\n",
       "       [9.91528213e-01, 4.33903515e-01, 5.50120056e-01, 9.92392674e-02,\n",
       "        2.12126136e-01, 2.73470599e-02, 9.14163366e-02, 1.38688125e-02,\n",
       "        9.53105092e-01, 2.25715324e-01],\n",
       "       [6.60808012e-03, 3.89179215e-02, 6.96118236e-01, 7.83144951e-01,\n",
       "        9.90394950e-01, 6.37881160e-01, 8.69912565e-01, 3.94008979e-02,\n",
       "        8.32130611e-02, 1.54612157e-02]], dtype=float32)"
      ]
     },
     "execution_count": 20,
     "metadata": {},
     "output_type": "execute_result"
    }
   ],
   "source": [
    "y_pred=cnn.predict(X_test[:5])# y_pred single array contain the probability distribution of all 10 class \n",
    "y_pred#the max probability index is the respective category"
   ]
  },
  {
   "cell_type": "code",
   "execution_count": 24,
   "id": "f5cfa375",
   "metadata": {},
   "outputs": [
    {
     "data": {
      "text/plain": [
       "[3, 8, 8, 0, 4]"
      ]
     },
     "execution_count": 24,
     "metadata": {},
     "output_type": "execute_result"
    }
   ],
   "source": [
    "y_classes=[np.argmax(element) for element in y_pred]\n",
    "y_classes\n"
   ]
  },
  {
   "cell_type": "code",
   "execution_count": 25,
   "id": "ffc15bdc",
   "metadata": {},
   "outputs": [
    {
     "data": {
      "text/plain": [
       "array([3, 8, 8, 0, 6], dtype=uint8)"
      ]
     },
     "execution_count": 25,
     "metadata": {},
     "output_type": "execute_result"
    }
   ],
   "source": [
    "y_test[:5]"
   ]
  },
  {
   "cell_type": "code",
   "execution_count": null,
   "id": "d22eb850",
   "metadata": {},
   "outputs": [],
   "source": []
  }
 ],
 "metadata": {
  "kernelspec": {
   "display_name": "Python 3 (ipykernel)",
   "language": "python",
   "name": "python3"
  },
  "language_info": {
   "codemirror_mode": {
    "name": "ipython",
    "version": 3
   },
   "file_extension": ".py",
   "mimetype": "text/x-python",
   "name": "python",
   "nbconvert_exporter": "python",
   "pygments_lexer": "ipython3",
   "version": "3.9.13"
  }
 },
 "nbformat": 4,
 "nbformat_minor": 5
}
